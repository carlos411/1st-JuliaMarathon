{
 "cells": [
  {
   "cell_type": "markdown",
   "metadata": {},
   "source": [
    "# Julia 數值系統介紹\n",
    "\n",
    "## Day 004 作業\n",
    "\n",
    "今天的內容提到整數及浮點數型別之最小值和最大值：\n",
    "\n",
    "|是否有正負號|型別|<div style=\"width:120px\">最大值</div>|<div style=\"width:120px\">最小值</div>|\n",
    "|---|---|---|---|\n",
    "|有|Int128, Int64, Int32, Int16, Int8|$2^{位元數-1}-1$|$-2^{位元數-1}$|\n",
    "|無|UInt128, UInt64, UInt32, UInt16, UInt8|$2^{位元數}-1$|$0$|\n",
    "\n",
    "|型別|最小值|最大值|\n",
    "|---|---|---|\n",
    "|`Float64`|-Inf|Inf|\n",
    "|`Float32`|-Inf 或 -Inf32|Inf 或 Inf32|\n",
    "|`Float16`|-Inf 或 -Inf16|Inf 或 Inf16|\n",
    "\n",
    "### 作業：範例程式示範了 Int64 及 Float64 的最小值和最大值，作業請列出並觀察其他整數及浮點數型別的最小值和最大值。"
   ]
  },
  {
   "cell_type": "markdown",
   "metadata": {},
   "source": [
    "呼叫 `typemin()` 及 `typemax()` 函式得到各型別的最小值和最大值。\n",
    "\n",
    "列出 Int128, Int32, Int16, Int8, UInt128, UInt64, UInt32, UInt16, UInt8 整數型別的最小值及最大值"
   ]
  },
  {
   "cell_type": "code",
   "execution_count": 16,
   "metadata": {},
   "outputs": [
    {
     "name": "stdout",
     "output_type": "stream",
     "text": [
      "typemin(Int128): -170141183460469231731687303715884105728\n",
      "typemax(Int128): 170141183460469231731687303715884105727\n",
      "typemin(Int32): -2147483648\n",
      "typemax(Int32): 2147483647\n",
      "typemin(Int16): -32768\n",
      "typemax(Int16): 32767\n",
      "typemin(Int8): -128\n",
      "typemax(Int8): 127\n",
      "typemin(UInt128): 0\n",
      "typemax(UInt128): 340282366920938463463374607431768211455\n",
      "typemin(UInt64): 0\n",
      "typemax(UInt64): 18446744073709551615\n",
      "typemin(UInt32): 0\n",
      "typemax(UInt32): 4294967295\n",
      "typemin(UInt16): 0\n",
      "typemax(UInt16): 65535\n",
      "typemin(UInt8): 0\n",
      "typemax(UInt8): 255\n"
     ]
    }
   ],
   "source": [
    "println(\"typemin(Int128): $(typemin(Int128))\")\n",
    "println(\"typemax(Int128): $(typemax(Int128))\")\n",
    "\n",
    "println(\"typemin(Int32): $(typemin(Int32))\")\n",
    "println(\"typemax(Int32): $(typemax(Int32))\")\n",
    "\n",
    "println(\"typemin(Int16): $(typemin(Int16))\")\n",
    "println(\"typemax(Int16): $(typemax(Int16))\")\n",
    "\n",
    "println(\"typemin(Int8): $(typemin(Int8))\")\n",
    "println(\"typemax(Int8): $(typemax(Int8))\")\n",
    "\n",
    "println(\"typemin(UInt128): $(typemin(UInt128))\")\n",
    "println(\"typemax(UInt128): $(typemax(UInt128))\")\n",
    "\n",
    "println(\"typemin(UInt64): $(typemin(UInt64))\")\n",
    "println(\"typemax(UInt64): $(typemax(UInt64))\")\n",
    "\n",
    "println(\"typemin(UInt32): $(typemin(UInt32))\")\n",
    "println(\"typemax(UInt32): $(typemax(UInt32))\")\n",
    "\n",
    "println(\"typemin(UInt16): $(typemin(UInt16))\")\n",
    "println(\"typemax(UInt16): $(typemax(UInt16))\")\n",
    "\n",
    "println(\"typemin(UInt8): $(typemin(UInt8))\")\n",
    "println(\"typemax(UInt8): $(typemax(UInt8))\")"
   ]
  },
  {
   "cell_type": "markdown",
   "metadata": {},
   "source": [
    "列出 Float32, Float16 浮點數型別的最小和最大值"
   ]
  },
  {
   "cell_type": "code",
   "execution_count": 19,
   "metadata": {},
   "outputs": [
    {
     "name": "stdout",
     "output_type": "stream",
     "text": [
      "typemin(Float32): -Inf\n",
      "typemax(Float32): Inf\n",
      "typemin(Float16): -Inf\n",
      "typemax(Float16): Inf\n"
     ]
    }
   ],
   "source": [
    "println(\"typemin(Float32): $(typemin(Float32))\")\n",
    "println(\"typemax(Float32): $(typemax(Float32))\")\n",
    "\n",
    "println(\"typemin(Float16): $(typemin(Float16))\")\n",
    "println(\"typemax(Float16): $(typemax(Float16))\")"
   ]
  },
  {
   "cell_type": "code",
   "execution_count": null,
   "metadata": {},
   "outputs": [],
   "source": []
  }
 ],
 "metadata": {
  "@webio": {
   "lastCommId": null,
   "lastKernelId": null
  },
  "kernelspec": {
   "display_name": "Julia 1.4.0",
   "language": "julia",
   "name": "julia-1.4"
  },
  "language_info": {
   "file_extension": ".jl",
   "mimetype": "application/julia",
   "name": "julia",
   "version": "1.4.0"
  }
 },
 "nbformat": 4,
 "nbformat_minor": 4
}
